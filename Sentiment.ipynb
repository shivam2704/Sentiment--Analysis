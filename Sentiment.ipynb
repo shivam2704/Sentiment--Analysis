{
 "cells": [
  {
   "cell_type": "code",
   "execution_count": 1,
   "metadata": {
    "collapsed": true,
    "jupyter": {
     "outputs_hidden": true
    }
   },
   "outputs": [
    {
     "name": "stdout",
     "output_type": "stream",
     "text": [
      "Requirement already satisfied: tweepy in /usr/local/lib/python3.8/site-packages (3.9.0)\n",
      "Requirement already satisfied: six>=1.10.0 in /usr/local/lib/python3.8/site-packages (from tweepy) (1.14.0)\n",
      "Requirement already satisfied: requests[socks]>=2.11.1 in /usr/local/lib/python3.8/site-packages (from tweepy) (2.23.0)\n",
      "Requirement already satisfied: requests-oauthlib>=0.7.0 in /usr/local/lib/python3.8/site-packages (from tweepy) (1.3.0)\n",
      "Requirement already satisfied: certifi>=2017.4.17 in /usr/local/lib/python3.8/site-packages (from requests[socks]>=2.11.1->tweepy) (2019.11.28)\n",
      "Requirement already satisfied: chardet<4,>=3.0.2 in /usr/local/lib/python3.8/site-packages (from requests[socks]>=2.11.1->tweepy) (3.0.4)\n",
      "Requirement already satisfied: urllib3!=1.25.0,!=1.25.1,<1.26,>=1.21.1 in /usr/local/lib/python3.8/site-packages (from requests[socks]>=2.11.1->tweepy) (1.25.8)\n",
      "Requirement already satisfied: idna<3,>=2.5 in /usr/local/lib/python3.8/site-packages (from requests[socks]>=2.11.1->tweepy) (2.9)\n",
      "Requirement already satisfied: PySocks!=1.5.7,>=1.5.6; extra == \"socks\" in /usr/local/lib/python3.8/site-packages (from requests[socks]>=2.11.1->tweepy) (1.7.1)\n",
      "Requirement already satisfied: oauthlib>=3.0.0 in /usr/local/lib/python3.8/site-packages (from requests-oauthlib>=0.7.0->tweepy) (3.1.0)\n",
      "\u001b[33mWARNING: You are using pip version 20.0.2; however, version 20.2.2 is available.\n",
      "You should consider upgrading via the '/usr/local/bin/python -m pip install --upgrade pip' command.\u001b[0m\n",
      "Note: you may need to restart the kernel to use updated packages.\n"
     ]
    }
   ],
   "source": [
    "pip install tweepy"
   ]
  },
  {
   "cell_type": "code",
   "execution_count": 2,
   "metadata": {
    "collapsed": true,
    "jupyter": {
     "outputs_hidden": true
    }
   },
   "outputs": [
    {
     "name": "stdout",
     "output_type": "stream",
     "text": [
      "Requirement already satisfied: textblob in /usr/local/lib/python3.8/site-packages (0.15.3)\n",
      "Requirement already satisfied: nltk>=3.1 in /usr/local/lib/python3.8/site-packages (from textblob) (3.5)\n",
      "Requirement already satisfied: click in /usr/local/lib/python3.8/site-packages (from nltk>=3.1->textblob) (7.0)\n",
      "Requirement already satisfied: tqdm in /usr/local/lib/python3.8/site-packages (from nltk>=3.1->textblob) (4.48.2)\n",
      "Requirement already satisfied: joblib in /usr/local/lib/python3.8/site-packages (from nltk>=3.1->textblob) (0.14.1)\n",
      "Requirement already satisfied: regex in /usr/local/lib/python3.8/site-packages (from nltk>=3.1->textblob) (2020.7.14)\n",
      "\u001b[33mWARNING: You are using pip version 20.0.2; however, version 20.2.2 is available.\n",
      "You should consider upgrading via the '/usr/local/bin/python -m pip install --upgrade pip' command.\u001b[0m\n",
      "Note: you may need to restart the kernel to use updated packages.\n"
     ]
    }
   ],
   "source": [
    "pip install textblob"
   ]
  },
  {
   "cell_type": "code",
   "execution_count": 3,
   "metadata": {},
   "outputs": [],
   "source": [
    "API_Key = \"Your api key\"\n",
    "API_Key_Secret=\"Your api secret\"\n",
    "Access_Token = \"Your access token\"\n",
    "Access_Token_Secret = \"Your access token secret\"\n"
   ]
  },
  {
   "cell_type": "code",
   "execution_count": 4,
   "metadata": {},
   "outputs": [],
   "source": [
    "from tweepy.streaming import StreamListener\n",
    "from tweepy import OAuthHandler\n",
    "from tweepy import Stream\n",
    "from tweepy import API\n",
    "from tweepy import Cursor\n",
    "import pandas as pd\n",
    "import numpy as np\n",
    "import matplotlib.pyplot as plt\n",
    "import re\n",
    "from textblob import TextBlob"
   ]
  },
  {
   "cell_type": "markdown",
   "metadata": {},
   "source": [
    "## Twitter Client Class ##"
   ]
  },
  {
   "cell_type": "code",
   "execution_count": 5,
   "metadata": {},
   "outputs": [],
   "source": [
    "class TwitterClient():  # create object in main class to use them.\n",
    "    def __init__(self, twitter_user=None):\n",
    "        self.auth=TwitterAuthenticator().twitter_auth()\n",
    "        self.twitter_client=API(self.auth)\n",
    "        self.twitter_user=twitter_user\n",
    "    \n",
    "    def get_twitter_api(self):\n",
    "        return self.twitter_client\n",
    "    \n",
    "    def get_tweets(self, num_tweets): #user tweets/retweets\n",
    "        tweets=[]\n",
    "        for tweet in Cursor(self.twitter_client.user_timeline, id=self.twitter_user).items(num_tweets):\n",
    "            tweets.append(tweet)\n",
    "        return tweets\n",
    "    \n",
    "    def get_t_tweets(self, num_tweets): #home timeline tweets\n",
    "        t_tweets=[]\n",
    "        for tweet in Cursor(self.twitter_client.home_timeline,).items(num_tweets):\n",
    "            t_tweets.append(tweet)\n",
    "        return t_tweets"
   ]
  },
  {
   "cell_type": "markdown",
   "metadata": {},
   "source": [
    "## Twitter Autheticator ##"
   ]
  },
  {
   "cell_type": "code",
   "execution_count": 6,
   "metadata": {},
   "outputs": [],
   "source": [
    "class TwitterAuthenticator():\n",
    "    def twitter_auth(self):\n",
    "        auth = OAuthHandler(API_Key, API_Key_Secret)\n",
    "        auth.set_access_token(Access_Token, Access_Token_Secret)\n",
    "        return auth\n",
    "        "
   ]
  },
  {
   "cell_type": "markdown",
   "metadata": {},
   "source": [
    "## Twitter Streamer ##"
   ]
  },
  {
   "cell_type": "code",
   "execution_count": 7,
   "metadata": {},
   "outputs": [],
   "source": [
    "class Twitterstreamer(): #for streaming and process live tweets\n",
    "    def __init__(self):\n",
    "        self.twitter_auth = TwitterAuthenticator()\n",
    "    def stream_tweets(self,fetched_tweets, hash_tag_list):\n",
    "        \n",
    "    #this handles twitter authentication api and the connection to the twitter streaming api\n",
    "        listener = TwitterListener(fetched_tweets)\n",
    "        auth=self.twitter_auth.twitter_auth()\n",
    "        stream = Stream(auth, listener)\n",
    "        stream.filter(track=hash_tag_list) #filter tweets to capture data by keywords\n",
    "    "
   ]
  },
  {
   "cell_type": "markdown",
   "metadata": {},
   "source": [
    "## Twitter Listener ##"
   ]
  },
  {
   "cell_type": "code",
   "execution_count": 8,
   "metadata": {},
   "outputs": [],
   "source": [
    "class TwitterListener(StreamListener): #store tweets\n",
    "    def __init__(self, fetched_tweets): #to store\n",
    "        self.fetched_tweets= fetched_tweets\n",
    "        \n",
    "    def on_data(self, data):\n",
    "        try: #deal with errros\n",
    "            print(data)\n",
    "            with open(self.fetched_tweets, 'a') as tf:\n",
    "                tf.write(data) #write into file\n",
    "            return True\n",
    "        except BaseException as e:\n",
    "            print(\"Error on_data: %s\" % str(e))\n",
    "        return True\n",
    "    \n",
    "    def on_error(self, status):\n",
    "        if status ==420:\n",
    "            return False # returning false incase errors occurs\n",
    "        print(status)\n",
    "        \n"
   ]
  },
  {
   "cell_type": "markdown",
   "metadata": {},
   "source": [
    "## Twitter analyzer ##"
   ]
  },
  {
   "cell_type": "code",
   "execution_count": 18,
   "metadata": {},
   "outputs": [],
   "source": [
    "class Tweetanalyzer():\n",
    "    def tweet_to_df(self, tweets):\n",
    "        df=pd.DataFrame(data=[tweet.text for tweet in tweets], columns=['Tweets']) #extract text data from each tweet\n",
    "        \n",
    "        df['Id']=np.array([tweet.id for tweet in tweets])\n",
    "        df['Length']=np.array([len(tweet.text) for tweet in tweets])\n",
    "        df['Retweets']=np.array([tweet.retweet_count for tweet in tweets])\n",
    "        df['Date']=np.array([tweet.created_at for tweet in tweets])\n",
    "        df['Source']=np.array([tweet.source for tweet in tweets])\n",
    "        df['Likes']=np.array([tweet.favorite_count for tweet in tweets])\n",
    "       # df['Location']=np.array([tweet.geo for tweet in tweets])\n",
    "        return df\n",
    "    \n",
    "    def clean_tweet(self, tweet):   #removing extra symbols in tweet.\n",
    "        return ' '.join(re.sub(\"(@[A-Za-z0-9]+)|([^0-9A-Za-z \\t])|(\\w+:\\/\\/\\S+)\", \" \", tweet).split())\n",
    "    \n",
    "    def analyze_sentiment(self, tweet):\n",
    "        analysis=TextBlob(self.clean_tweet(tweet))\n",
    "        \n",
    "        if analysis.sentiment.polarity > 0:  # Positive\n",
    "            return 1\n",
    "        elif analysis.sentiment.polarity ==0: # Neutral\n",
    "            return 0\n",
    "        else:\n",
    "            return -1                         # Negative\n",
    "        "
   ]
  },
  {
   "cell_type": "code",
   "execution_count": 21,
   "metadata": {},
   "outputs": [],
   "source": [
    "if __name__ == \"__main__\":\n",
    "    #hash_tag_list = ['covid19']\n",
    "    #fetched_tweets = \"tweets.txt\"\n",
    "    \n",
    "    \n",
    "    \n",
    "    twitter_client=TwitterClient()\n",
    "    twitter_analyzer=Tweetanalyzer()\n",
    "    api=twitter_client.get_twitter_api()\n",
    "    tweets=api.user_timeline(id='elonmusk', count=150)\n",
    "    \n",
    "    df=twitter_analyzer.tweet_to_df(tweets)\n",
    "    \n",
    "    df['Sentiment']=np.array([twitter_analyzer.analyze_sentiment(tweet) for tweet in df['Tweets']])\n",
    "    \n",
    "\n",
    "    #print(twitter_client.get_tweets(1))\n",
    "    \n",
    "    #twitter_streamer = Twitterstreamer()\n",
    "    #twitter_streamer.stream_tweets(fetched_tweets, hash_tag_list)\n",
    "\n"
   ]
  },
  {
   "cell_type": "code",
   "execution_count": 11,
   "metadata": {},
   "outputs": [
    {
     "name": "stdout",
     "output_type": "stream",
     "text": [
      "['__class__', '__delattr__', '__dict__', '__dir__', '__doc__', '__eq__', '__format__', '__ge__', '__getattribute__', '__getstate__', '__gt__', '__hash__', '__init__', '__init_subclass__', '__le__', '__lt__', '__module__', '__ne__', '__new__', '__reduce__', '__reduce_ex__', '__repr__', '__setattr__', '__sizeof__', '__str__', '__subclasshook__', '__weakref__', '_api', '_json', 'author', 'contributors', 'coordinates', 'created_at', 'destroy', 'entities', 'favorite', 'favorite_count', 'favorited', 'geo', 'id', 'id_str', 'in_reply_to_screen_name', 'in_reply_to_status_id', 'in_reply_to_status_id_str', 'in_reply_to_user_id', 'in_reply_to_user_id_str', 'is_quote_status', 'lang', 'parse', 'parse_list', 'place', 'possibly_sensitive', 'retweet', 'retweet_count', 'retweeted', 'retweets', 'source', 'source_url', 'text', 'truncated', 'user']\n"
     ]
    }
   ],
   "source": [
    "print(dir(tweets[0]))"
   ]
  },
  {
   "cell_type": "code",
   "execution_count": 22,
   "metadata": {},
   "outputs": [
    {
     "data": {
      "text/html": [
       "<div>\n",
       "<style scoped>\n",
       "    .dataframe tbody tr th:only-of-type {\n",
       "        vertical-align: middle;\n",
       "    }\n",
       "\n",
       "    .dataframe tbody tr th {\n",
       "        vertical-align: top;\n",
       "    }\n",
       "\n",
       "    .dataframe thead th {\n",
       "        text-align: right;\n",
       "    }\n",
       "</style>\n",
       "<table border=\"1\" class=\"dataframe\">\n",
       "  <thead>\n",
       "    <tr style=\"text-align: right;\">\n",
       "      <th></th>\n",
       "      <th>Tweets</th>\n",
       "      <th>Id</th>\n",
       "      <th>Length</th>\n",
       "      <th>Retweets</th>\n",
       "      <th>Date</th>\n",
       "      <th>Source</th>\n",
       "      <th>Likes</th>\n",
       "      <th>Sentiment</th>\n",
       "    </tr>\n",
       "  </thead>\n",
       "  <tbody>\n",
       "    <tr>\n",
       "      <th>0</th>\n",
       "      <td>@Sinan25 Sorry, noise reduction has gotten muc...</td>\n",
       "      <td>1296364519569215489</td>\n",
       "      <td>94</td>\n",
       "      <td>5</td>\n",
       "      <td>2020-08-20 08:32:41</td>\n",
       "      <td>Twitter for iPhone</td>\n",
       "      <td>385</td>\n",
       "      <td>0</td>\n",
       "    </tr>\n",
       "    <tr>\n",
       "      <th>1</th>\n",
       "      <td>@Dami_Kolz09 🤣</td>\n",
       "      <td>1296363892067762177</td>\n",
       "      <td>14</td>\n",
       "      <td>7</td>\n",
       "      <td>2020-08-20 08:30:11</td>\n",
       "      <td>Twitter for iPhone</td>\n",
       "      <td>168</td>\n",
       "      <td>0</td>\n",
       "    </tr>\n",
       "    <tr>\n",
       "      <th>2</th>\n",
       "      <td>@jussiwen Hardcore techno, aber vielleicht ein...</td>\n",
       "      <td>1296362191562723328</td>\n",
       "      <td>87</td>\n",
       "      <td>67</td>\n",
       "      <td>2020-08-20 08:23:26</td>\n",
       "      <td>Twitter for iPhone</td>\n",
       "      <td>1313</td>\n",
       "      <td>0</td>\n",
       "    </tr>\n",
       "    <tr>\n",
       "      <th>3</th>\n",
       "      <td>New Tesla feature coming that enables your car...</td>\n",
       "      <td>1296360799498391552</td>\n",
       "      <td>139</td>\n",
       "      <td>1509</td>\n",
       "      <td>2020-08-20 08:17:54</td>\n",
       "      <td>Twitter for iPhone</td>\n",
       "      <td>20015</td>\n",
       "      <td>1</td>\n",
       "    </tr>\n",
       "    <tr>\n",
       "      <th>4</th>\n",
       "      <td>https://t.co/Bki5SOOroe</td>\n",
       "      <td>1296359612141187073</td>\n",
       "      <td>23</td>\n",
       "      <td>2012</td>\n",
       "      <td>2020-08-20 08:13:11</td>\n",
       "      <td>Twitter for iPhone</td>\n",
       "      <td>23236</td>\n",
       "      <td>0</td>\n",
       "    </tr>\n",
       "  </tbody>\n",
       "</table>\n",
       "</div>"
      ],
      "text/plain": [
       "                                              Tweets                   Id  \\\n",
       "0  @Sinan25 Sorry, noise reduction has gotten muc...  1296364519569215489   \n",
       "1                                     @Dami_Kolz09 🤣  1296363892067762177   \n",
       "2  @jussiwen Hardcore techno, aber vielleicht ein...  1296362191562723328   \n",
       "3  New Tesla feature coming that enables your car...  1296360799498391552   \n",
       "4                            https://t.co/Bki5SOOroe  1296359612141187073   \n",
       "\n",
       "   Length  Retweets                Date              Source  Likes  Sentiment  \n",
       "0      94         5 2020-08-20 08:32:41  Twitter for iPhone    385          0  \n",
       "1      14         7 2020-08-20 08:30:11  Twitter for iPhone    168          0  \n",
       "2      87        67 2020-08-20 08:23:26  Twitter for iPhone   1313          0  \n",
       "3     139      1509 2020-08-20 08:17:54  Twitter for iPhone  20015          1  \n",
       "4      23      2012 2020-08-20 08:13:11  Twitter for iPhone  23236          0  "
      ]
     },
     "execution_count": 22,
     "metadata": {},
     "output_type": "execute_result"
    }
   ],
   "source": [
    "df.head()"
   ]
  },
  {
   "cell_type": "code",
   "execution_count": null,
   "metadata": {},
   "outputs": [],
   "source": [
    "df.describe()"
   ]
  },
  {
   "cell_type": "markdown",
   "metadata": {},
   "source": [
    "# Time Series Graph"
   ]
  },
  {
   "cell_type": "code",
   "execution_count": 23,
   "metadata": {},
   "outputs": [
    {
     "data": {
      "image/png": "[encoded data removed]",
      "text/plain": [
       "<Figure size 1080x360 with 1 Axes>"
      ]
     },
     "metadata": {
      "needs_background": "light"
     },
     "output_type": "display_data"
    }
   ],
   "source": [
    "    time_likes = pd.Series(data=df['Likes'].values, index=df['Date'])\n",
    "    time_likes.plot(figsize=(15,5), label='likes', legend=True)\n",
    "    time_retweets = pd.Series(data=df['Retweets'].values, index=df['Date'])\n",
    "    time_retweets.plot(figsize=(15,5), label='Retweets', legend=True)\n",
    "    plt.show()"
   ]
  },
  {
   "cell_type": "code",
   "execution_count": null,
   "metadata": {},
   "outputs": [],
   "source": []
  }
 ],
 "metadata": {
  "kernelspec": {
   "display_name": "Python 3",
   "language": "python",
   "name": "python3"
  },
  "language_info": {
   "codemirror_mode": {
    "name": "ipython",
    "version": 3
   },
   "file_extension": ".py",
   "mimetype": "text/x-python",
   "name": "python",
   "nbconvert_exporter": "python",
   "pygments_lexer": "ipython3",
   "version": "3.8.1"
  }
 },
 "nbformat": 4,
 "nbformat_minor": 4
}

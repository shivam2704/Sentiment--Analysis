{
 "cells": [
  {
   "cell_type": "code",
   "execution_count": 1,
   "metadata": {},
   "outputs": [
    {
     "name": "stdout",
     "output_type": "stream",
     "text": [
      "Requirement already satisfied: tweepy in /usr/local/lib/python3.8/site-packages (3.9.0)\n",
      "Requirement already satisfied: requests[socks]>=2.11.1 in /usr/local/lib/python3.8/site-packages (from tweepy) (2.23.0)\n",
      "Requirement already satisfied: requests-oauthlib>=0.7.0 in /usr/local/lib/python3.8/site-packages (from tweepy) (1.3.0)\n",
      "Requirement already satisfied: six>=1.10.0 in /usr/local/lib/python3.8/site-packages (from tweepy) (1.14.0)\n",
      "Requirement already satisfied: urllib3!=1.25.0,!=1.25.1,<1.26,>=1.21.1 in /usr/local/lib/python3.8/site-packages (from requests[socks]>=2.11.1->tweepy) (1.25.8)\n",
      "Requirement already satisfied: certifi>=2017.4.17 in /usr/local/lib/python3.8/site-packages (from requests[socks]>=2.11.1->tweepy) (2019.11.28)\n",
      "Requirement already satisfied: chardet<4,>=3.0.2 in /usr/local/lib/python3.8/site-packages (from requests[socks]>=2.11.1->tweepy) (3.0.4)\n",
      "Requirement already satisfied: idna<3,>=2.5 in /usr/local/lib/python3.8/site-packages (from requests[socks]>=2.11.1->tweepy) (2.9)\n",
      "Requirement already satisfied: PySocks!=1.5.7,>=1.5.6; extra == \"socks\" in /usr/local/lib/python3.8/site-packages (from requests[socks]>=2.11.1->tweepy) (1.7.1)\n",
      "Requirement already satisfied: oauthlib>=3.0.0 in /usr/local/lib/python3.8/site-packages (from requests-oauthlib>=0.7.0->tweepy) (3.1.0)\n",
      "\u001b[33mWARNING: You are using pip version 20.0.2; however, version 20.2.2 is available.\n",
      "You should consider upgrading via the '/usr/local/bin/python -m pip install --upgrade pip' command.\u001b[0m\n",
      "Note: you may need to restart the kernel to use updated packages.\n"
     ]
    }
   ],
   "source": [
    "pip install tweepy"
   ]
  },
  {
   "cell_type": "code",
   "execution_count": 2,
   "metadata": {},
   "outputs": [
    {
     "name": "stdout",
     "output_type": "stream",
     "text": [
      "Requirement already satisfied: textblob in /usr/local/lib/python3.8/site-packages (0.15.3)\n",
      "Requirement already satisfied: nltk>=3.1 in /usr/local/lib/python3.8/site-packages (from textblob) (3.5)\n",
      "Requirement already satisfied: joblib in /usr/local/lib/python3.8/site-packages (from nltk>=3.1->textblob) (0.14.1)\n",
      "Requirement already satisfied: regex in /usr/local/lib/python3.8/site-packages (from nltk>=3.1->textblob) (2020.7.14)\n",
      "Requirement already satisfied: click in /usr/local/lib/python3.8/site-packages (from nltk>=3.1->textblob) (7.0)\n",
      "Requirement already satisfied: tqdm in /usr/local/lib/python3.8/site-packages (from nltk>=3.1->textblob) (4.48.2)\n",
      "\u001b[33mWARNING: You are using pip version 20.0.2; however, version 20.2.2 is available.\n",
      "You should consider upgrading via the '/usr/local/bin/python -m pip install --upgrade pip' command.\u001b[0m\n",
      "Note: you may need to restart the kernel to use updated packages.\n"
     ]
    }
   ],
   "source": [
    "pip install textblob"
   ]
  },
  {
   "cell_type": "code",
   "execution_count": 3,
   "metadata": {},
   "outputs": [],
   "source": [
    "API_Key = \"56IxlLLtakCDJf7E1KvibsrJI\"\n",
    "API_Key_Secret=\"X2wNJfU2amsZhiBEyZp9qk5om31ilP508dQK07GpUyAYEkWsmZ\"\n",
    "Access_Token = \"940248913457561600-chZPXUbYBcDIPEVUvCJh7uH5AzVsgtL\"\n",
    "Access_Token_Secret = \"0hkFZBfVSe0LVsqqpW0xQfXkttGRVmUCUaXoI81y9mIPd\"\n",
    "#Bearer token:AAAAAAAAAAAAAAAAAAAAAK1yGwEAAAAAr7nM6RuNWREjf853J8wlxTsy2dQ%3D0lWxuipqKj76fp3VRBlSnwkoO5larFUx84g8slLlVCANrzIUT8\n"
   ]
  },
  {
   "cell_type": "code",
   "execution_count": 4,
   "metadata": {},
   "outputs": [],
   "source": [
    "from tweepy.streaming import StreamListener\n",
    "from tweepy import OAuthHandler\n",
    "from tweepy import Stream\n",
    "from tweepy import API\n",
    "from tweepy import Cursor\n",
    "import pandas as pd\n",
    "import numpy as np\n",
    "import matplotlib.pyplot as plt\n",
    "import re\n",
    "from textblob import TextBlob"
   ]
  },
  {
   "cell_type": "markdown",
   "metadata": {},
   "source": [
    "## Twitter Client Class ##"
   ]
  },
  {
   "cell_type": "code",
   "execution_count": 5,
   "metadata": {},
   "outputs": [],
   "source": [
    "class TwitterClient():  # create object in main class to use them.\n",
    "    def __init__(self, twitter_user=None):\n",
    "        self.auth=TwitterAuthenticator().twitter_auth()\n",
    "        self.twitter_client=API(self.auth)\n",
    "        self.twitter_user=twitter_user\n",
    "    \n",
    "    def get_twitter_api(self):\n",
    "        return self.twitter_client\n",
    "    \n",
    "    def get_tweets(self, num_tweets): #user tweets/retweets\n",
    "        tweets=[]\n",
    "        for tweet in Cursor(self.twitter_client.user_timeline, id=self.twitter_user).items(num_tweets):\n",
    "            tweets.append(tweet)\n",
    "        return tweets\n",
    "    \n",
    "    def get_t_tweets(self, num_tweets): #home timeline tweets\n",
    "        t_tweets=[]\n",
    "        for tweet in Cursor(self.twitter_client.home_timeline,).items(num_tweets):\n",
    "            t_tweets.append(tweet)\n",
    "        return t_tweets"
   ]
  },
  {
   "cell_type": "markdown",
   "metadata": {},
   "source": [
    "## Twitter Autheticator ##"
   ]
  },
  {
   "cell_type": "code",
   "execution_count": 6,
   "metadata": {},
   "outputs": [],
   "source": [
    "class TwitterAuthenticator():\n",
    "    def twitter_auth(self):\n",
    "        auth = OAuthHandler(API_Key, API_Key_Secret)\n",
    "        auth.set_access_token(Access_Token, Access_Token_Secret)\n",
    "        return auth\n",
    "        "
   ]
  },
  {
   "cell_type": "markdown",
   "metadata": {},
   "source": [
    "## Twitter Streamer ##"
   ]
  },
  {
   "cell_type": "code",
   "execution_count": 7,
   "metadata": {},
   "outputs": [],
   "source": [
    "class Twitterstreamer(): #for streaming and process live tweets\n",
    "    def __init__(self):\n",
    "        self.twitter_auth = TwitterAuthenticator()\n",
    "    def stream_tweets(self,fetched_tweets, hash_tag_list):\n",
    "        \n",
    "    #this handles twitter authentication api and the connection to the twitter streaming api\n",
    "        listener = TwitterListener(fetched_tweets)\n",
    "        auth=self.twitter_auth.twitter_auth()\n",
    "        stream = Stream(auth, listener)\n",
    "        stream.filter(track=hash_tag_list) #filter tweets to capture data by keywords\n",
    "    "
   ]
  },
  {
   "cell_type": "markdown",
   "metadata": {},
   "source": [
    "## Twitter Listener ##"
   ]
  },
  {
   "cell_type": "code",
   "execution_count": 8,
   "metadata": {},
   "outputs": [],
   "source": [
    "class TwitterListener(StreamListener): #store tweets\n",
    "    def __init__(self, fetched_tweets): #to store\n",
    "        self.fetched_tweets= fetched_tweets\n",
    "        \n",
    "    def on_data(self, data):\n",
    "        try: #deal with errros\n",
    "            print(data)\n",
    "            with open(self.fetched_tweets, 'a') as tf:\n",
    "                tf.write(data) #write into file\n",
    "            return True\n",
    "        except BaseException as e:\n",
    "            print(\"Error on_data: %s\" % str(e))\n",
    "        return True\n",
    "    \n",
    "    def on_error(self, status):\n",
    "        if status ==420:\n",
    "            return False # returning false incase errors occurs\n",
    "        print(status)\n",
    "        \n"
   ]
  },
  {
   "cell_type": "markdown",
   "metadata": {},
   "source": [
    "## Twitter analyzer ##"
   ]
  },
  {
   "cell_type": "code",
   "execution_count": 9,
   "metadata": {},
   "outputs": [],
   "source": [
    "class Tweetanalyzer():\n",
    "    def tweet_to_df(self, tweets):\n",
    "        df=pd.DataFrame(data=[tweet.text for tweet in tweets], columns=['Tweets']) #extract text data from each tweet\n",
    "        \n",
    "        df['Id']=np.array([tweet.id for tweet in tweets])\n",
    "        df['Length']=np.array([len(tweet.text) for tweet in tweets])\n",
    "        df['Retweets']=np.array([tweet.retweet_count for tweet in tweets])\n",
    "        df['Date']=np.array([tweet.created_at for tweet in tweets])\n",
    "        df['Source']=np.array([tweet.source for tweet in tweets])\n",
    "        df['Likes']=np.array([tweet.favorite_count for tweet in tweets])\n",
    "       # df['Location']=np.array([tweet.geo for tweet in tweets])\n",
    "        return df\n",
    "    \n",
    "    def clean_tweet(self, tweet):   #removing extra symbols in tweet.\n",
    "        return ' '.join(re.sub(\"(@[A-Za-z0-9]+)|([^0-9A-Za-z \\t])|(\\w+:\\/\\/\\S+)\", \" \", tweet).split())\n",
    "    \n",
    "    def analyze_sentiment(self, tweet):\n",
    "        analysis=TextBlob(self.clean_tweet(tweet))\n",
    "        \n",
    "        if analysis.sentiment.polarity > 0:  # Positive\n",
    "            return 1\n",
    "        elif analysis.sentiment.polarity ==0: # Neutral\n",
    "            return 0\n",
    "        else:\n",
    "            return -1                         # Negative\n",
    "        "
   ]
  },
  {
   "cell_type": "code",
   "execution_count": 10,
   "metadata": {},
   "outputs": [],
   "source": [
    "if __name__ == \"__main__\":\n",
    "    #hash_tag_list = ['covid19']\n",
    "    #fetched_tweets = \"tweets.txt\"\n",
    "    \n",
    "    \n",
    "    \n",
    "    twitter_client=TwitterClient()\n",
    "    twitter_analyzer=Tweetanalyzer()\n",
    "    api=twitter_client.get_twitter_api()\n",
    "    tweets=api.user_timeline(id='Cristiano', count=150)\n",
    "    \n",
    "    df=twitter_analyzer.tweet_to_df(tweets)\n",
    "    \n",
    "    df['Sentiment']=np.array([twitter_analyzer.analyze_sentiment(tweet) for tweet in df['Tweets']])\n",
    "    \n",
    "\n",
    "    #print(twitter_client.get_tweets(1))\n",
    "    \n",
    "    #twitter_streamer = Twitterstreamer()\n",
    "    #twitter_streamer.stream_tweets(fetched_tweets, hash_tag_list)\n",
    "\n"
   ]
  },
  {
   "cell_type": "code",
   "execution_count": 11,
   "metadata": {},
   "outputs": [
    {
     "name": "stdout",
     "output_type": "stream",
     "text": [
      "['__class__', '__delattr__', '__dict__', '__dir__', '__doc__', '__eq__', '__format__', '__ge__', '__getattribute__', '__getstate__', '__gt__', '__hash__', '__init__', '__init_subclass__', '__le__', '__lt__', '__module__', '__ne__', '__new__', '__reduce__', '__reduce_ex__', '__repr__', '__setattr__', '__sizeof__', '__str__', '__subclasshook__', '__weakref__', '_api', '_json', 'author', 'contributors', 'coordinates', 'created_at', 'destroy', 'entities', 'favorite', 'favorite_count', 'favorited', 'geo', 'id', 'id_str', 'in_reply_to_screen_name', 'in_reply_to_status_id', 'in_reply_to_status_id_str', 'in_reply_to_user_id', 'in_reply_to_user_id_str', 'is_quote_status', 'lang', 'parse', 'parse_list', 'place', 'possibly_sensitive', 'retweet', 'retweet_count', 'retweeted', 'retweets', 'source', 'source_url', 'text', 'truncated', 'user']\n"
     ]
    }
   ],
   "source": [
    "print(dir(tweets[0]))"
   ]
  },
  {
   "cell_type": "code",
   "execution_count": 12,
   "metadata": {},
   "outputs": [
    {
     "data": {
      "text/html": [
       "<div>\n",
       "<style scoped>\n",
       "    .dataframe tbody tr th:only-of-type {\n",
       "        vertical-align: middle;\n",
       "    }\n",
       "\n",
       "    .dataframe tbody tr th {\n",
       "        vertical-align: top;\n",
       "    }\n",
       "\n",
       "    .dataframe thead th {\n",
       "        text-align: right;\n",
       "    }\n",
       "</style>\n",
       "<table border=\"1\" class=\"dataframe\">\n",
       "  <thead>\n",
       "    <tr style=\"text-align: right;\">\n",
       "      <th></th>\n",
       "      <th>Tweets</th>\n",
       "      <th>Id</th>\n",
       "      <th>Length</th>\n",
       "      <th>Retweets</th>\n",
       "      <th>Date</th>\n",
       "      <th>Source</th>\n",
       "      <th>Likes</th>\n",
       "      <th>Sentiment</th>\n",
       "    </tr>\n",
       "  </thead>\n",
       "  <tbody>\n",
       "    <tr>\n",
       "      <th>0</th>\n",
       "      <td>We touch our hair 96 times a day on average, t...</td>\n",
       "      <td>1296854578726490112</td>\n",
       "      <td>140</td>\n",
       "      <td>2975</td>\n",
       "      <td>2020-08-21 17:00:00</td>\n",
       "      <td>Twitter Media Studio</td>\n",
       "      <td>44036</td>\n",
       "      <td>-1</td>\n",
       "    </tr>\n",
       "    <tr>\n",
       "      <th>1</th>\n",
       "      <td>Happy to share these beautiful moments with yo...</td>\n",
       "      <td>1293546832098926592</td>\n",
       "      <td>80</td>\n",
       "      <td>18684</td>\n",
       "      <td>2020-08-12 13:56:12</td>\n",
       "      <td>Twitter for iPhone</td>\n",
       "      <td>429301</td>\n",
       "      <td>1</td>\n",
       "    </tr>\n",
       "    <tr>\n",
       "      <th>2</th>\n",
       "      <td>On board🛥😉 https://t.co/IhvlsFdGep</td>\n",
       "      <td>1292861675276840961</td>\n",
       "      <td>34</td>\n",
       "      <td>26278</td>\n",
       "      <td>2020-08-10 16:33:38</td>\n",
       "      <td>Twitter for iPhone</td>\n",
       "      <td>494759</td>\n",
       "      <td>0</td>\n",
       "    </tr>\n",
       "    <tr>\n",
       "      <th>3</th>\n",
       "      <td>The beautiful competition is back! 💪🏼 \\n#UCL #...</td>\n",
       "      <td>1291442827965140994</td>\n",
       "      <td>92</td>\n",
       "      <td>13673</td>\n",
       "      <td>2020-08-06 18:35:38</td>\n",
       "      <td>Twitter for iPhone</td>\n",
       "      <td>209794</td>\n",
       "      <td>1</td>\n",
       "    </tr>\n",
       "    <tr>\n",
       "      <th>4</th>\n",
       "      <td>Feeling loved ❤️😘 https://t.co/pIBtQtcAcz</td>\n",
       "      <td>1291343231603617793</td>\n",
       "      <td>41</td>\n",
       "      <td>16326</td>\n",
       "      <td>2020-08-06 11:59:53</td>\n",
       "      <td>Twitter for iPhone</td>\n",
       "      <td>354649</td>\n",
       "      <td>1</td>\n",
       "    </tr>\n",
       "  </tbody>\n",
       "</table>\n",
       "</div>"
      ],
      "text/plain": [
       "                                              Tweets                   Id  \\\n",
       "0  We touch our hair 96 times a day on average, t...  1296854578726490112   \n",
       "1  Happy to share these beautiful moments with yo...  1293546832098926592   \n",
       "2                 On board🛥😉 https://t.co/IhvlsFdGep  1292861675276840961   \n",
       "3  The beautiful competition is back! 💪🏼 \\n#UCL #...  1291442827965140994   \n",
       "4          Feeling loved ❤️😘 https://t.co/pIBtQtcAcz  1291343231603617793   \n",
       "\n",
       "   Length  Retweets                Date                Source   Likes  \\\n",
       "0     140      2975 2020-08-21 17:00:00  Twitter Media Studio   44036   \n",
       "1      80     18684 2020-08-12 13:56:12    Twitter for iPhone  429301   \n",
       "2      34     26278 2020-08-10 16:33:38    Twitter for iPhone  494759   \n",
       "3      92     13673 2020-08-06 18:35:38    Twitter for iPhone  209794   \n",
       "4      41     16326 2020-08-06 11:59:53    Twitter for iPhone  354649   \n",
       "\n",
       "   Sentiment  \n",
       "0         -1  \n",
       "1          1  \n",
       "2          0  \n",
       "3          1  \n",
       "4          1  "
      ]
     },
     "execution_count": 12,
     "metadata": {},
     "output_type": "execute_result"
    }
   ],
   "source": [
    "df.head()"
   ]
  },
  {
   "cell_type": "code",
   "execution_count": 13,
   "metadata": {},
   "outputs": [
    {
     "data": {
      "text/html": [
       "<div>\n",
       "<style scoped>\n",
       "    .dataframe tbody tr th:only-of-type {\n",
       "        vertical-align: middle;\n",
       "    }\n",
       "\n",
       "    .dataframe tbody tr th {\n",
       "        vertical-align: top;\n",
       "    }\n",
       "\n",
       "    .dataframe thead th {\n",
       "        text-align: right;\n",
       "    }\n",
       "</style>\n",
       "<table border=\"1\" class=\"dataframe\">\n",
       "  <thead>\n",
       "    <tr style=\"text-align: right;\">\n",
       "      <th></th>\n",
       "      <th>Id</th>\n",
       "      <th>Length</th>\n",
       "      <th>Retweets</th>\n",
       "      <th>Likes</th>\n",
       "      <th>Sentiment</th>\n",
       "    </tr>\n",
       "  </thead>\n",
       "  <tbody>\n",
       "    <tr>\n",
       "      <th>count</th>\n",
       "      <td>1.500000e+02</td>\n",
       "      <td>150.000000</td>\n",
       "      <td>150.000000</td>\n",
       "      <td>150.000000</td>\n",
       "      <td>150.000000</td>\n",
       "    </tr>\n",
       "    <tr>\n",
       "      <th>mean</th>\n",
       "      <td>1.218652e+18</td>\n",
       "      <td>87.233333</td>\n",
       "      <td>15625.840000</td>\n",
       "      <td>215934.393333</td>\n",
       "      <td>0.386667</td>\n",
       "    </tr>\n",
       "    <tr>\n",
       "      <th>std</th>\n",
       "      <td>4.376338e+16</td>\n",
       "      <td>37.238109</td>\n",
       "      <td>14346.008749</td>\n",
       "      <td>125329.768560</td>\n",
       "      <td>0.621609</td>\n",
       "    </tr>\n",
       "    <tr>\n",
       "      <th>min</th>\n",
       "      <td>1.152237e+18</td>\n",
       "      <td>25.000000</td>\n",
       "      <td>405.000000</td>\n",
       "      <td>3288.000000</td>\n",
       "      <td>-1.000000</td>\n",
       "    </tr>\n",
       "    <tr>\n",
       "      <th>25%</th>\n",
       "      <td>1.178882e+18</td>\n",
       "      <td>54.250000</td>\n",
       "      <td>7411.250000</td>\n",
       "      <td>123631.000000</td>\n",
       "      <td>0.000000</td>\n",
       "    </tr>\n",
       "    <tr>\n",
       "      <th>50%</th>\n",
       "      <td>1.212025e+18</td>\n",
       "      <td>81.000000</td>\n",
       "      <td>13092.000000</td>\n",
       "      <td>208745.000000</td>\n",
       "      <td>0.000000</td>\n",
       "    </tr>\n",
       "    <tr>\n",
       "      <th>75%</th>\n",
       "      <td>1.258254e+18</td>\n",
       "      <td>126.500000</td>\n",
       "      <td>19300.750000</td>\n",
       "      <td>293060.250000</td>\n",
       "      <td>1.000000</td>\n",
       "    </tr>\n",
       "    <tr>\n",
       "      <th>max</th>\n",
       "      <td>1.296855e+18</td>\n",
       "      <td>144.000000</td>\n",
       "      <td>105524.000000</td>\n",
       "      <td>783186.000000</td>\n",
       "      <td>1.000000</td>\n",
       "    </tr>\n",
       "  </tbody>\n",
       "</table>\n",
       "</div>"
      ],
      "text/plain": [
       "                 Id      Length       Retweets          Likes   Sentiment\n",
       "count  1.500000e+02  150.000000     150.000000     150.000000  150.000000\n",
       "mean   1.218652e+18   87.233333   15625.840000  215934.393333    0.386667\n",
       "std    4.376338e+16   37.238109   14346.008749  125329.768560    0.621609\n",
       "min    1.152237e+18   25.000000     405.000000    3288.000000   -1.000000\n",
       "25%    1.178882e+18   54.250000    7411.250000  123631.000000    0.000000\n",
       "50%    1.212025e+18   81.000000   13092.000000  208745.000000    0.000000\n",
       "75%    1.258254e+18  126.500000   19300.750000  293060.250000    1.000000\n",
       "max    1.296855e+18  144.000000  105524.000000  783186.000000    1.000000"
      ]
     },
     "execution_count": 13,
     "metadata": {},
     "output_type": "execute_result"
    }
   ],
   "source": [
    "df.describe()"
   ]
  },
  {
   "cell_type": "markdown",
   "metadata": {},
   "source": [
    "# Time Series Graph"
   ]
  },
  {
   "cell_type": "code",
   "execution_count": 14,
   "metadata": {
    "collapsed": true,
    "jupyter": {
     "outputs_hidden": true
    }
   },
   "outputs": [
    {
     "data": {
      "image/png": "[encoded data removed]",
      "text/plain": [
       "<Figure size 1080x360 with 1 Axes>"
      ]
     },
     "metadata": {
      "needs_background": "light"
     },
     "output_type": "display_data"
    }
   ],
   "source": [
    "    time_likes = pd.Series(data=df['Likes'].values, index=df['Date'])\n",
    "    time_likes.plot(figsize=(15,5), label='likes', legend=True)\n",
    "    time_retweets = pd.Series(data=df['Retweets'].values, index=df['Date'])\n",
    "    time_retweets.plot(figsize=(15,5), label='Retweets', legend=True)\n",
    "    plt.show()"
   ]
  },
  {
   "cell_type": "code",
   "execution_count": 15,
   "metadata": {},
   "outputs": [],
   "source": [
    "df.to_csv('Tweets.csv', index=False)"
   ]
  },
  {
   "cell_type": "code",
   "execution_count": 16,
   "metadata": {},
   "outputs": [
    {
     "data": {
      "text/plain": [
       "'Morning workout with a cycling session....these wheels are on fire 🔥 😂💪🏼 https://t.co/lcHnUbGQ8m'"
      ]
     },
     "execution_count": 16,
     "metadata": {},
     "output_type": "execute_result"
    }
   ],
   "source": [
    "df['Tweets'][41]"
   ]
  },
  {
   "cell_type": "markdown",
   "metadata": {},
   "source": [
    "## Sentiment Proportions ##"
   ]
  },
  {
   "cell_type": "code",
   "execution_count": 42,
   "metadata": {},
   "outputs": [],
   "source": [
    "value=pd.Series(data=df['Sentiment'].value_counts())"
   ]
  },
  {
   "cell_type": "code",
   "execution_count": 43,
   "metadata": {},
   "outputs": [
    {
     "data": {
      "text/plain": [
       " 0    70\n",
       " 1    69\n",
       "-1    11\n",
       "Name: Sentiment, dtype: int64"
      ]
     },
     "execution_count": 43,
     "metadata": {},
     "output_type": "execute_result"
    }
   ],
   "source": [
    "value"
   ]
  },
  {
   "cell_type": "code",
   "execution_count": 68,
   "metadata": {},
   "outputs": [
    {
     "data": {
      "text/plain": [
       "<function matplotlib.pyplot.show(*args, **kw)>"
      ]
     },
     "execution_count": 68,
     "metadata": {},
     "output_type": "execute_result"
    },
    {
     "data": {
      "image/png": "[encoded data removed]",
      "text/plain": [
       "<Figure size 432x432 with 1 Axes>"
      ]
     },
     "metadata": {},
     "output_type": "display_data"
    }
   ],
   "source": [
    "label=['Neutral', 'Positive', 'Negative']\n",
    "plt.figure(figsize=(6,6))\n",
    "plt.pie(value, autopct='%1.1f%%', shadow=True, wedgeprops={'edgecolor':'black'}, labels=label, textprops={'fontsize' :'14'})\n",
    "plt.legend()\n",
    "plt.show"
   ]
  },
  {
   "cell_type": "code",
   "execution_count": null,
   "metadata": {},
   "outputs": [],
   "source": [
    "\n"
   ]
  }
 ],
 "metadata": {
  "kernelspec": {
   "display_name": "Python 3",
   "language": "python",
   "name": "python3"
  },
  "language_info": {
   "codemirror_mode": {
    "name": "ipython",
    "version": 3
   },
   "file_extension": ".py",
   "mimetype": "text/x-python",
   "name": "python",
   "nbconvert_exporter": "python",
   "pygments_lexer": "ipython3",
   "version": "3.8.1"
  }
 },
 "nbformat": 4,
 "nbformat_minor": 4
}
